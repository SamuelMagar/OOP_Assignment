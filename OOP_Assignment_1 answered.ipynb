{
  "cells": [
    {
      "cell_type": "markdown",
      "metadata": {
        "id": "6kov3XO_Y5_e"
      },
      "source": [
        "# **Student Grading System**\n",
        "### Create a Student class with attributes and methods:\n",
        "\n",
        "### Attributes:\n",
        "- name\n",
        "- grades (list of student grades)\n",
        "### Methods:\n",
        "- add_grade : to add a grade to the student's grade list.\n",
        "- calculate_average() to calculate the student's average grades."
      ]
    },
    {
      "cell_type": "code",
      "execution_count": null,
      "metadata": {
        "id": "0UaBWR87Y5_h"
      },
      "outputs": [],
      "source": [
        "# Answer Here\n",
        "class student():\n",
        "    def __init__(self,name,grades):\n",
        "        self.name= name\n",
        "        self.grades= grades\n",
        "    # methods\n",
        "    def add_grade(self,grades):\n",
        "        new_grades_1=self.grades+grades\n",
        "        print(f'your grades {new_grades_1}')\n",
        "\n",
        "    def average(self):\n",
        "        new_grades_2=self.grades +[]\n",
        "        print(sum(new_grades_2)//len(new_grades_2))\n",
        "        # need to calculate the average for total grades if there any added grades so making empty list for new_grades_1 but dont know how to link with "
      ]
    },
    {
      "cell_type": "code",
      "execution_count": 64,
      "metadata": {},
      "outputs": [
        {
          "name": "stdout",
          "output_type": "stream",
          "text": [
            "ahmed\n",
            "[30, 40, 50, 60]\n",
            "your grades [30, 40, 50, 60, 10, 20]\n",
            "45\n"
          ]
        }
      ],
      "source": [
        "object_1=student('ahmed',[30,40,50,60])\n",
        "print(object_1.name)\n",
        "print(object_1.grades)\n",
        "object_1.add_grade([10,20])\n",
        "object_1.average()"
      ]
    },
    {
      "cell_type": "markdown",
      "metadata": {
        "id": "Qh95V2FCY5_i"
      },
      "source": [
        "# **Car Rental System**\n",
        "### Create a Car class for a car rental system:\n",
        "\n",
        "### Attributes:\n",
        "- model\n",
        "- year\n",
        "- rented (boolean)\n",
        "### Methods:\n",
        "- car_status : to print whether the car is rented or available.\n",
        "- car_condition : to print whether the car condition is good or not based on year (if > 2020 Good)"
      ]
    },
    {
      "cell_type": "code",
      "execution_count": 71,
      "metadata": {
        "id": "BABsaC1NY5_i"
      },
      "outputs": [],
      "source": [
        "# Answer Here\n",
        "class Car_Rent_Sys():\n",
        "    def __init__(self,model,year,availablity):\n",
        "        self.model=model\n",
        "        self.year=year\n",
        "        self.availablity=availablity\n",
        "\n",
        "    def car_status(self):\n",
        "        car_rent= self.availablity\n",
        "        if car_rent==True:\n",
        "            print(f'your choice [{self.model} {self.year}] is available for rent')\n",
        "        else:  print(f'your choice [{self.model}{self.year}] is not available for rent')\n",
        "    def car_cond(self):\n",
        "        car_model=self.year\n",
        "        if car_model>2020:\n",
        "            print('car condition is good')\n",
        "        else:\n",
        "            print(\"car condition is't good\")\n"
      ]
    },
    {
      "cell_type": "code",
      "execution_count": 72,
      "metadata": {},
      "outputs": [
        {
          "name": "stdout",
          "output_type": "stream",
          "text": [
            "car condition is good\n",
            "your choice [BMW 2024] is available for rent\n"
          ]
        }
      ],
      "source": [
        "object_2=Car_Rent_Sys('BMW',2024,True)\n",
        "object_2.car_cond()\n",
        "object_2.car_status()"
      ]
    },
    {
      "cell_type": "markdown",
      "metadata": {
        "id": "ayVixDNfY5_i"
      },
      "source": [
        "# **Employee Management System**\n",
        "### Create an Employee class that tracks basic employee details:\n",
        "\n",
        "### Attributes:\n",
        "- name\n",
        "- position\n",
        "- salary\n",
        "### Methods:\n",
        "- display_info : to print the employee’s details.\n",
        "- is_manager : to print whether employee is a manager or not based on salary (> 25000)"
      ]
    },
    {
      "cell_type": "code",
      "execution_count": 76,
      "metadata": {
        "id": "I5yQYnnQY5_j"
      },
      "outputs": [],
      "source": [
        "# Answer Here\n",
        "class Employee():\n",
        "    def __init__(self,name,position,salary):\n",
        "        self.name=name\n",
        "        self.position=position\n",
        "        self.salary=salary\n",
        "\n",
        "    def display_info(self):\n",
        "        print(f'name={self.name}')\n",
        "        print(f'position={self.position}')\n",
        "        print(f'salary={self.salary}')\n",
        "        \n",
        "    def is_manager(self):\n",
        "        if self.salary>25000:\n",
        "            print(f'{self.name} is a manager')\n",
        "        else:\n",
        "            print(f'{self.name} is not a manager')"
      ]
    },
    {
      "cell_type": "code",
      "execution_count": 79,
      "metadata": {},
      "outputs": [
        {
          "name": "stdout",
          "output_type": "stream",
          "text": [
            "name=ahmed\n",
            "position=HR Manager\n",
            "salary=26000\n",
            "ahmed is a manager\n"
          ]
        }
      ],
      "source": [
        "object_3=Employee('ahmed','HR Manager',26000)\n",
        "object_3.display_info()\n",
        "object_3.is_manager()"
      ]
    }
  ],
  "metadata": {
    "colab": {
      "provenance": []
    },
    "kernelspec": {
      "display_name": "base",
      "language": "python",
      "name": "python3"
    },
    "language_info": {
      "codemirror_mode": {
        "name": "ipython",
        "version": 3
      },
      "file_extension": ".py",
      "mimetype": "text/x-python",
      "name": "python",
      "nbconvert_exporter": "python",
      "pygments_lexer": "ipython3",
      "version": "3.13.5"
    }
  },
  "nbformat": 4,
  "nbformat_minor": 0
}
